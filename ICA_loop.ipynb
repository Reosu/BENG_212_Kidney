{
 "cells": [
  {
   "cell_type": "code",
   "execution_count": 1,
   "metadata": {},
   "outputs": [],
   "source": [
    "# repeat ICA for 100 times\n",
    "import pandas as pd\n",
    "import numpy as np\n",
    "from tqdm.notebook import tqdm\n",
    "from scipy.sparse import csr_matrix\n",
    "from matplotlib.lines import Line2D\n",
    "from sklearn import cluster, metrics\n",
    "from sklearn.decomposition import PCA, FactorAnalysis\n",
    "from sklearn.preprocessing import StandardScaler\n",
    "import matplotlib.pyplot as plt\n",
    "from scipy.stats import pearsonr, spearmanr\n",
    "from itertools import combinations_with_replacement\n",
    "from sklearn.decomposition import FastICA"
   ]
  },
  {
   "cell_type": "code",
   "execution_count": 2,
   "metadata": {},
   "outputs": [],
   "source": [
    "# Data was filtered to preserve one sample type per experimental condition \n",
    "data = pd.read_csv(\"filtered_data.csv\",index_col=0,nrows=1000)"
   ]
  },
  {
   "cell_type": "code",
   "execution_count": 3,
   "metadata": {},
   "outputs": [],
   "source": [
    "# Non-standard normalization in order to preserve sparsity, as z-scores fail to execute\n",
    "# due to mathematical error of dividing by zero\n",
    "scaler = StandardScaler(with_mean=False)\n",
    "scaler.fit(data.transpose())\n",
    "norm_data = scaler.transform(data.transpose())"
   ]
  },
  {
   "cell_type": "code",
   "execution_count": 6,
   "metadata": {},
   "outputs": [],
   "source": [
    "A_marix_collection={}\n",
    "M_marix_collection={}\n",
    "\n",
    "\n",
    "n=0\n",
    "while n<100:\n",
    "    ica_transformer = FastICA(n_components=30,random_state=0).fit(norm_data[0:300].transpose())\n",
    "    M = pd.DataFrame(ica_transformer.transform(norm_data[0:300].transpose()))\n",
    "    A = pd.DataFrame(ica_transformer.mixing_)\n",
    "    \n",
    "  \n",
    "    A_marix_collection[n]=A\n",
    "    M_marix_collection[n]=M\n",
    "    \n",
    "    \n",
    "    n=n+1"
   ]
  },
  {
   "cell_type": "code",
   "execution_count": null,
   "metadata": {},
   "outputs": [],
   "source": [
    "n=0\n",
    "\n",
    "M1=M_marix_collection[0]\n",
    "A1=A_marix_collection[0]\n",
    "\n",
    "while n<99:\n",
    "    M1=M\n",
    "    M2=M_marix_collection[n+1]\n",
    "    A1=A\n",
    "    A2=A_marix_collection[n+1]\n",
    "\n",
    "    metrics = pd.DataFrame(index = range(0,len(M1.columns)),columns= range(0,len(M1.columns)))\n",
    "    for i in range(0,len(M1.columns)):\n",
    "        for j in range(0,len(M2.columns)):\n",
    "            metrics.loc[i][j] = abs(pearsonr(M1[i],M2[j])[0])\n",
    "    metrics= metrics.fillna(0)\n",
    "\n",
    "    \n",
    "    \n",
    "    M = pd.DataFrame(index=M1.index)\n",
    "    \n",
    "    for i,item in metrics.iteritems():\n",
    "        for j in item.index:\n",
    "            if item[j] == max(item) and abs(max(item)) > .9:\n",
    "                M1_abs_max = float(M1[i].loc[M1[i].abs().nlargest(1).index])\n",
    "                M2_abs_max = float(M2[j].loc[M2[j].abs().nlargest(1).index])\n",
    "                A1_abs_max = float(A1[i].loc[A1[i].abs().nlargest(1).index])\n",
    "                A2_abs_max = float(A2[j].loc[A2[j].abs().nlargest(1).index])\n",
    "                if M1_abs_max < 0:\n",
    "                    M1_corrected = -M1[i]\n",
    "                else:\n",
    "                    M1_corrected = M1[i]\n",
    "                if M2_abs_max < 0:\n",
    "                    M2_corrected = -M2[i]\n",
    "                else:\n",
    "                    M2_corrected = M2[i]\n",
    "                if A1_abs_max < 0:\n",
    "                    A1_corrected = -A1[i]\n",
    "                else:\n",
    "                    A1_corrected = A1[i]\n",
    "                if A2_abs_max < 0:\n",
    "                    A2_corrected = -A2[i]\n",
    "                else:\n",
    "                    A2_corrected = A2[i]\n",
    "                M[str(i)+\"_\"+str(j)] = (M1_corrected+M2_corrected)/2 \n",
    "                A[str(i)+\"_\"+str(j)] = (A1_corrected+M2_corrected)/2 \n",
    "    \n",
    "    \n",
    "    \n",
    "    \n",
    "n=n+1"
   ]
  },
  {
   "cell_type": "code",
   "execution_count": null,
   "metadata": {},
   "outputs": [],
   "source": []
  }
 ],
 "metadata": {
  "kernelspec": {
   "display_name": "Python 3",
   "language": "python",
   "name": "python3"
  },
  "language_info": {
   "codemirror_mode": {
    "name": "ipython",
    "version": 3
   },
   "file_extension": ".py",
   "mimetype": "text/x-python",
   "name": "python",
   "nbconvert_exporter": "python",
   "pygments_lexer": "ipython3",
   "version": "3.8.5"
  }
 },
 "nbformat": 4,
 "nbformat_minor": 4
}
